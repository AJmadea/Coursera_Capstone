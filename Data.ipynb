{
    "cells": [
        {
            "metadata": {
                "collapsed": true
            },
            "cell_type": "markdown",
            "source": "# Data"
        },
        {
            "metadata": {},
            "cell_type": "markdown",
            "source": "       The FourSquare API was used to locate nearby venues by using the 'explore' aspect of the API.  Foursquare API requires credentials, which will be omitted in the final code.  FourSquare API requires the latitude and longitude for a given location and a search radius.  Some hudson conty cities are large and are subdivided into different zip codes.  There is a list of NJ zip codes, city, and latitude and longitude coordinates from opendatasoft.com.  The table does have data for all cities in NJ.  The hudson county wikipedia article has a table that lists each city in hudson county.  The city name list from wikipedia is used to limit the cities from the OpenDataSoft list.  The foursquare api is used to collect nearby venues information.  "
        },
        {
            "metadata": {},
            "cell_type": "markdown",
            "source": "OpenDataSoft List of NJ City information:\nhttps://public.opendatasoft.com/api/records/1.0/search/?dataset=us-zip-code-latitude-and-longitude&q=NJ&rows=762&facet=state&facet=timezone&facet=dst"
        },
        {
            "metadata": {},
            "cell_type": "markdown",
            "source": "#### An example of a response from one of the requests from the opendatasoft site"
        },
        {
            "metadata": {},
            "cell_type": "code",
            "source": "{'datasetid': 'us-zip-code-latitude-and-longitude',\n  'recordid': '0b26467a7ec2b1a30432f960a680a2948091124c',\n  'fields': {'city': 'Nutley',\n   'zip': '07110',\n   'dst': 1,\n   'geopoint': [40.8196, -74.15877],\n   'longitude': -74.15877,\n   'state': 'NJ',\n   'latitude': 40.8196,\n   'timezone': -5},\n  'geometry': {'type': 'Point', 'coordinates': [-74.15877, 40.8196]},\n  'record_timestamp': '2018-02-09T16:33:38.603000+00:00'},",
            "execution_count": null,
            "outputs": []
        },
        {
            "metadata": {},
            "cell_type": "markdown",
            "source": "Wikipedia Article That contains a table of NJ Hudson County Cities: https://en.wikipedia.org/wiki/Hudson_County,_New_Jersey\nThe City column is the only data that will be used from this table!"
        },
        {
            "metadata": {},
            "cell_type": "markdown",
            "source": "import pandas as pd\nhudsonURL = \"https://en.wikipedia.org/wiki/Hudson_County,_New_Jersey\"\nhudsonTables = pd.read_html(hudsonURL)\nhudsonCities = hudsonTables[1]\nhudsonCities.rename({\"Municipality\":\"City\"},axis=1,inplace=True)\nhudsonCities.head()"
        },
        {
            "metadata": {},
            "cell_type": "markdown",
            "source": "## This is the FourSquare API url that was used in the program."
        },
        {
            "metadata": {},
            "cell_type": "markdown",
            "source": "url = \"https://api.foursquare.com/v2/venues/explore?client_id={}&client_secret={}&v={}&ll={},{}&radius={}&limit={}\".format(\n            CLIENT_ID,\n            CLIENT_SECRET,\n            VERSION,\n            lat,\n            lng,\n            radius,\n            LIMIT\n        )"
        },
        {
            "metadata": {},
            "cell_type": "markdown",
            "source": "### Typical Response from the url"
        },
        {
            "metadata": {},
            "cell_type": "code",
            "source": "import requests, json\nCLIENT_ID = \"redacted\"\nCLIENT_SECRET = 'redacted'\nVERSION = \"20180605\"\nLIMIT = 3\nurl = \"https://api.foursquare.com/v2/venues/explore?client_id={}&client_secret={}&v={}&ll={},{}&radius={}&limit={}\".format(\n            CLIENT_ID,\n            CLIENT_SECRET,\n            VERSION,\n            40.81,\n            -74.15,\n            500,\n            LIMIT\n        )\ntest = requests.get(url).json()\ntest",
            "execution_count": 3,
            "outputs": [
                {
                    "output_type": "execute_result",
                    "execution_count": 3,
                    "data": {
                        "text/plain": "{'meta': {'code': 200, 'requestId': '604e8306c0470e3e31a3e43d'},\n 'response': {'suggestedFilters': {'header': 'Tap to show:',\n   'filters': [{'name': 'Open now', 'key': 'openNow'},\n    {'name': '$-$$$$', 'key': 'price'}]},\n  'warning': {'text': \"There aren't a lot of results near you. Try something more general, reset your filters, or expand the search area.\"},\n  'headerLocation': 'Nutley',\n  'headerFullLocation': 'Nutley',\n  'headerLocationGranularity': 'city',\n  'totalResults': 21,\n  'suggestedBounds': {'ne': {'lat': 40.814500004500005,\n    'lng': -74.14406564245576},\n   'sw': {'lat': 40.8054999955, 'lng': -74.15593435754425}},\n  'groups': [{'type': 'Recommended Places',\n    'name': 'recommended',\n    'items': [{'reasons': {'count': 0,\n       'items': [{'summary': 'This spot is popular',\n         'type': 'general',\n         'reasonName': 'globalInteractionReason'}]},\n      'venue': {'id': '4fb18d6ee4b05cf2df954c93',\n       'name': 'TNT Fitness',\n       'location': {'address': '135 Main St',\n        'crossStreet': 'Belleville Avenue',\n        'lat': 40.80967276742127,\n        'lng': -74.15170481755672,\n        'labeledLatLngs': [{'label': 'display',\n          'lat': 40.80967276742127,\n          'lng': -74.15170481755672}],\n        'distance': 148,\n        'postalCode': '07109',\n        'cc': 'US',\n        'city': 'Belleville',\n        'state': 'NJ',\n        'country': 'United States',\n        'formattedAddress': ['135 Main St (Belleville Avenue)',\n         'Belleville, NJ 07109',\n         'United States']},\n       'categories': [{'id': '4bf58dd8d48988d176941735',\n         'name': 'Gym',\n         'pluralName': 'Gyms',\n         'shortName': 'Gym',\n         'icon': {'prefix': 'https://ss3.4sqi.net/img/categories_v2/building/gym_',\n          'suffix': '.png'},\n         'primary': True}],\n       'photos': {'count': 0, 'groups': []},\n       'venuePage': {'id': '37435426'}},\n      'referralId': 'e-0-4fb18d6ee4b05cf2df954c93-0'},\n     {'reasons': {'count': 0,\n       'items': [{'summary': 'This spot is popular',\n         'type': 'general',\n         'reasonName': 'globalInteractionReason'}]},\n      'venue': {'id': '52daae97498e14b28f533947',\n       'name': 'Metropolis Mexican',\n       'location': {'address': '85 Union Ave',\n        'lat': 40.80984350410558,\n        'lng': -74.15176558406768,\n        'labeledLatLngs': [{'label': 'display',\n          'lat': 40.80984350410558,\n          'lng': -74.15176558406768},\n         {'label': 'entrance', 'lat': 40.809816, 'lng': -74.151907}],\n        'distance': 149,\n        'postalCode': '07110',\n        'cc': 'US',\n        'city': 'Nutley',\n        'state': 'NJ',\n        'country': 'United States',\n        'formattedAddress': ['85 Union Ave',\n         'Nutley, NJ 07110',\n         'United States']},\n       'categories': [{'id': '4bf58dd8d48988d1c1941735',\n         'name': 'Mexican Restaurant',\n         'pluralName': 'Mexican Restaurants',\n         'shortName': 'Mexican',\n         'icon': {'prefix': 'https://ss3.4sqi.net/img/categories_v2/food/mexican_',\n          'suffix': '.png'},\n         'primary': True}],\n       'photos': {'count': 0, 'groups': []}},\n      'referralId': 'e-0-52daae97498e14b28f533947-1'},\n     {'reasons': {'count': 0,\n       'items': [{'summary': 'This spot is popular',\n         'type': 'general',\n         'reasonName': 'globalInteractionReason'}]},\n      'venue': {'id': '575b4f1d498eb221623c902c',\n       'name': 'Ninja Sushi',\n       'location': {'address': '75 Washington Ave',\n        'lat': 40.808937,\n        'lng': -74.147067,\n        'labeledLatLngs': [{'label': 'display',\n          'lat': 40.808937,\n          'lng': -74.147067}],\n        'distance': 273,\n        'postalCode': '07110',\n        'cc': 'US',\n        'city': 'Nutley',\n        'state': 'NJ',\n        'country': 'United States',\n        'formattedAddress': ['75 Washington Ave',\n         'Nutley, NJ 07110',\n         'United States']},\n       'categories': [{'id': '4bf58dd8d48988d142941735',\n         'name': 'Asian Restaurant',\n         'pluralName': 'Asian Restaurants',\n         'shortName': 'Asian',\n         'icon': {'prefix': 'https://ss3.4sqi.net/img/categories_v2/food/asian_',\n          'suffix': '.png'},\n         'primary': True}],\n       'photos': {'count': 0, 'groups': []}},\n      'referralId': 'e-0-575b4f1d498eb221623c902c-2'}]}]}}"
                    },
                    "metadata": {}
                }
            ]
        }
    ],
    "metadata": {
        "kernelspec": {
            "name": "python3",
            "display_name": "Python 3.7",
            "language": "python"
        },
        "language_info": {
            "name": "python",
            "version": "3.7.10",
            "mimetype": "text/x-python",
            "codemirror_mode": {
                "name": "ipython",
                "version": 3
            },
            "pygments_lexer": "ipython3",
            "nbconvert_exporter": "python",
            "file_extension": ".py"
        }
    },
    "nbformat": 4,
    "nbformat_minor": 1
}