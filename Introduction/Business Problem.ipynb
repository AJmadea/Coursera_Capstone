{
    "cells": [
        {
            "metadata": {
                "collapsed": true
            },
            "cell_type": "markdown",
            "source": "# City venues classification of Bergen and Hudson County, NJ"
        },
        {
            "metadata": {},
            "cell_type": "markdown",
            "source": "    New Jersey's Hudson county has unique geography.  It is the sixth most densly populated county in the USA.  It is located west of the hudson river.  Hudson county has a robust transit system.  It has the PATH trains that can take passengers to the World Trade Center, Penn Station New York, and Newark Penn Station.  Hudson county is home to the Hudson Bergen Light Rail that allows passengers ferquent rides within hudson county.  There is also bus lines that serve many neighborhoods within Hudson County.  The dense population, availability of transportation, and proximity to major cities makes this county very popular for proespective venues.  This project was meant to cluster neighborhoods of Hudson County, NJ by the frequency of the venues within said neighborhoods.  The program will cluster similar neighborhoods together using the KMeans algorithm.  This report is targeted to people who might want to open a business and wants to see the most frequent venues in an area of hudson county.  "
        }
    ],
    "metadata": {
        "kernelspec": {
            "name": "python3",
            "display_name": "Python 3.7",
            "language": "python"
        },
        "language_info": {
            "name": "python",
            "version": "3.7.10",
            "mimetype": "text/x-python",
            "codemirror_mode": {
                "name": "ipython",
                "version": 3
            },
            "pygments_lexer": "ipython3",
            "nbconvert_exporter": "python",
            "file_extension": ".py"
        }
    },
    "nbformat": 4,
    "nbformat_minor": 1
}