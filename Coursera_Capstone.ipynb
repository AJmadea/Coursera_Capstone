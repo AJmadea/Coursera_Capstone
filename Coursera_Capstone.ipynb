{
    "cells": [
        {
            "metadata": {},
            "cell_type": "markdown",
            "source": "# This is my notebook that I will use for the capstone project in coursera"
        },
        {
            "metadata": {},
            "cell_type": "code",
            "source": "import pandas as pd\nimport numpy as np\nfrom bs4 import BeautifulSoup",
            "execution_count": 85,
            "outputs": []
        },
        {
            "metadata": {},
            "cell_type": "markdown",
            "source": "### Getting the file information from wikipedia using pandas"
        },
        {
            "metadata": {
                "scrolled": false
            },
            "cell_type": "code",
            "source": "file = \"https://en.wikipedia.org/wiki/List_of_postal_codes_of_Canada:_M\"\n\n# returns a list of tables from the file\ntables = pd.read_html(file)",
            "execution_count": 86,
            "outputs": []
        },
        {
            "metadata": {},
            "cell_type": "markdown",
            "source": "### tables is a list of tables so how many tables does it contain?\n"
        },
        {
            "metadata": {},
            "cell_type": "code",
            "source": "print(\"# of tables: \", len(tables))",
            "execution_count": 87,
            "outputs": [
                {
                    "output_type": "stream",
                    "text": "# of tables:  3\n",
                    "name": "stdout"
                }
            ]
        },
        {
            "metadata": {},
            "cell_type": "markdown",
            "source": "### combine each table into tables"
        },
        {
            "metadata": {},
            "cell_type": "code",
            "source": "df = pd.concat(newTables,axis=1)\ndf.head()\ndf.columns",
            "execution_count": 88,
            "outputs": [
                {
                    "output_type": "execute_result",
                    "execution_count": 88,
                    "data": {
                        "text/plain": "Index([  'Postal Code',       'Borough', 'Neighbourhood',               0,\n                     1,               2,               3,               4,\n                     5,               6,               7,               8,\n                     9,              10,              11,              12,\n                    13,              14,              15,              16,\n                    17],\n      dtype='object')"
                    },
                    "metadata": {}
                }
            ]
        },
        {
            "metadata": {},
            "cell_type": "markdown",
            "source": "### df has alot of useless info in it.  Let's just specify postal cod, borough and neighourhood"
        },
        {
            "metadata": {
                "scrolled": true
            },
            "cell_type": "code",
            "source": "# df has alot of useless info let's get rid of that\ndf_info = df[['Postal Code','Borough','Neighbourhood']]\ndf_info.head()",
            "execution_count": 89,
            "outputs": [
                {
                    "output_type": "execute_result",
                    "execution_count": 89,
                    "data": {
                        "text/plain": "  Postal Code           Borough              Neighbourhood\n0         M1A      Not assigned               Not assigned\n1         M2A      Not assigned               Not assigned\n2         M3A        North York                  Parkwoods\n3         M4A        North York           Victoria Village\n4         M5A  Downtown Toronto  Regent Park, Harbourfront",
                        "text/html": "<div>\n<style scoped>\n    .dataframe tbody tr th:only-of-type {\n        vertical-align: middle;\n    }\n\n    .dataframe tbody tr th {\n        vertical-align: top;\n    }\n\n    .dataframe thead th {\n        text-align: right;\n    }\n</style>\n<table border=\"1\" class=\"dataframe\">\n  <thead>\n    <tr style=\"text-align: right;\">\n      <th></th>\n      <th>Postal Code</th>\n      <th>Borough</th>\n      <th>Neighbourhood</th>\n    </tr>\n  </thead>\n  <tbody>\n    <tr>\n      <th>0</th>\n      <td>M1A</td>\n      <td>Not assigned</td>\n      <td>Not assigned</td>\n    </tr>\n    <tr>\n      <th>1</th>\n      <td>M2A</td>\n      <td>Not assigned</td>\n      <td>Not assigned</td>\n    </tr>\n    <tr>\n      <th>2</th>\n      <td>M3A</td>\n      <td>North York</td>\n      <td>Parkwoods</td>\n    </tr>\n    <tr>\n      <th>3</th>\n      <td>M4A</td>\n      <td>North York</td>\n      <td>Victoria Village</td>\n    </tr>\n    <tr>\n      <th>4</th>\n      <td>M5A</td>\n      <td>Downtown Toronto</td>\n      <td>Regent Park, Harbourfront</td>\n    </tr>\n  </tbody>\n</table>\n</div>"
                    },
                    "metadata": {}
                }
            ]
        },
        {
            "metadata": {},
            "cell_type": "markdown",
            "source": "### Let's drop boroughs that haven't been assigned"
        },
        {
            "metadata": {},
            "cell_type": "code",
            "source": "# Now let's drop rows that have \"Not assigned\" in the borough\ndf_info = df_info[ df['Borough'] != 'Not assigned']\ndf_info.head()",
            "execution_count": 90,
            "outputs": [
                {
                    "output_type": "execute_result",
                    "execution_count": 90,
                    "data": {
                        "text/plain": "  Postal Code           Borough                                Neighbourhood\n2         M3A        North York                                    Parkwoods\n3         M4A        North York                             Victoria Village\n4         M5A  Downtown Toronto                    Regent Park, Harbourfront\n5         M6A        North York             Lawrence Manor, Lawrence Heights\n6         M7A  Downtown Toronto  Queen's Park, Ontario Provincial Government",
                        "text/html": "<div>\n<style scoped>\n    .dataframe tbody tr th:only-of-type {\n        vertical-align: middle;\n    }\n\n    .dataframe tbody tr th {\n        vertical-align: top;\n    }\n\n    .dataframe thead th {\n        text-align: right;\n    }\n</style>\n<table border=\"1\" class=\"dataframe\">\n  <thead>\n    <tr style=\"text-align: right;\">\n      <th></th>\n      <th>Postal Code</th>\n      <th>Borough</th>\n      <th>Neighbourhood</th>\n    </tr>\n  </thead>\n  <tbody>\n    <tr>\n      <th>2</th>\n      <td>M3A</td>\n      <td>North York</td>\n      <td>Parkwoods</td>\n    </tr>\n    <tr>\n      <th>3</th>\n      <td>M4A</td>\n      <td>North York</td>\n      <td>Victoria Village</td>\n    </tr>\n    <tr>\n      <th>4</th>\n      <td>M5A</td>\n      <td>Downtown Toronto</td>\n      <td>Regent Park, Harbourfront</td>\n    </tr>\n    <tr>\n      <th>5</th>\n      <td>M6A</td>\n      <td>North York</td>\n      <td>Lawrence Manor, Lawrence Heights</td>\n    </tr>\n    <tr>\n      <th>6</th>\n      <td>M7A</td>\n      <td>Downtown Toronto</td>\n      <td>Queen's Park, Ontario Provincial Government</td>\n    </tr>\n  </tbody>\n</table>\n</div>"
                    },
                    "metadata": {}
                }
            ]
        },
        {
            "metadata": {},
            "cell_type": "markdown",
            "source": "### Postal codes should have their unique row with no duplicate rows\n#### This cell shows that the number of unique rows is equal to the shape of the dataframe; i.e., there are no duplicate rows"
        },
        {
            "metadata": {},
            "cell_type": "code",
            "source": "# There should only exist one row for each Postal Code\nuniqueRows = df_info['Postal Code'].nunique()\n\nprint(uniqueRows, df_info.shape)\nprint(\"Each row has unique postal code: \", uniqueRows == df_info.shape[0])",
            "execution_count": 91,
            "outputs": [
                {
                    "output_type": "stream",
                    "text": "103 (103, 3)\nEach row has unique postal code:  True\n",
                    "name": "stdout"
                }
            ]
        },
        {
            "metadata": {},
            "cell_type": "markdown",
            "source": "### If a cell has a borough but a Not assigned  neighborhood, then the neighborhood will be the same as the borough."
        },
        {
            "metadata": {
                "scrolled": true
            },
            "cell_type": "code",
            "source": "df['Neighbourhood'].value_counts()",
            "execution_count": 92,
            "outputs": [
                {
                    "output_type": "execute_result",
                    "execution_count": 92,
                    "data": {
                        "text/plain": "Not assigned                                                                            77\nDownsview                                                                                4\nDon Mills                                                                                2\nBusiness reply mail Processing Centre, South Central Letter Processing Plant Toronto     1\nSt. James Town, Cabbagetown                                                              1\n                                                                                        ..\nRosedale                                                                                 1\nDavisville North                                                                         1\nWexford, Maryvale                                                                        1\nKennedy Park, Ionview, East Birchmount Park                                              1\nChristie                                                                                 1\nName: Neighbourhood, Length: 100, dtype: int64"
                    },
                    "metadata": {}
                }
            ]
        },
        {
            "metadata": {},
            "cell_type": "markdown",
            "source": "### There's 77 'Not assigned' Neighbourhoods!  Let's change their neighbourhood to their respective borough!\n#### I use value_counts() to check if \"Not assigned\" value still exists in the Neighbourhood column"
        },
        {
            "metadata": {
                "scrolled": true
            },
            "cell_type": "code",
            "source": "# There's 77 Not assigned neighbourhoods!\n# Columns : \nfor row in df_info.index:\n    if(df_info.loc[row,'Neighbourhood'] == 'Not assigned'):\n        df_info.loc[row,'Neighbourhood'] = df_info.loc[row, 'Borough']\n    \n        \ndf_info['Neighbourhood'].value_counts()",
            "execution_count": 93,
            "outputs": [
                {
                    "output_type": "execute_result",
                    "execution_count": 93,
                    "data": {
                        "text/plain": "Downsview                                                                                         4\nDon Mills                                                                                         2\nBusiness reply mail Processing Centre, South Central Letter Processing Plant Toronto              1\nCedarbrae                                                                                         1\nVictoria Village                                                                                  1\n                                                                                                 ..\nEringate, Bloordale Gardens, Old Burnhamthorpe, Markland Wood                                     1\nHumberlea, Emery                                                                                  1\nMimico NW, The Queensway West, South of Bloor, Kingsway Park South West, Royal York South West    1\nDavisville                                                                                        1\nMalvern, Rouge                                                                                    1\nName: Neighbourhood, Length: 99, dtype: int64"
                    },
                    "metadata": {}
                }
            ]
        },
        {
            "metadata": {},
            "cell_type": "markdown",
            "source": "#### How many rows x columns does the dataframe have?"
        },
        {
            "metadata": {},
            "cell_type": "code",
            "source": "# Shape of dataframe\ndf_info.shape",
            "execution_count": 84,
            "outputs": [
                {
                    "output_type": "execute_result",
                    "execution_count": 84,
                    "data": {
                        "text/plain": "(103, 3)"
                    },
                    "metadata": {}
                }
            ]
        }
    ],
    "metadata": {
        "kernelspec": {
            "name": "python3",
            "display_name": "Python 3.7",
            "language": "python"
        },
        "language_info": {
            "name": "python",
            "version": "3.7.10",
            "mimetype": "text/x-python",
            "codemirror_mode": {
                "name": "ipython",
                "version": 3
            },
            "pygments_lexer": "ipython3",
            "nbconvert_exporter": "python",
            "file_extension": ".py"
        }
    },
    "nbformat": 4,
    "nbformat_minor": 1
}